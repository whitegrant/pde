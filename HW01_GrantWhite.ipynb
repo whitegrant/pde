{
 "cells": [
  {
   "cell_type": "code",
   "execution_count": 1,
   "id": "domestic-nirvana",
   "metadata": {},
   "outputs": [],
   "source": [
    "from pylab import *\n",
    "from scipy.special import factorial\n",
    "import numpy as np\n",
    "import pandas as pd\n",
    "import matplotlib.pyplot as plt\n",
    "plt.style.use('ggplot')\n",
    "plt.rcParams['figure.dpi'] = 120"
   ]
  },
  {
   "cell_type": "markdown",
   "id": "pregnant-stanford",
   "metadata": {},
   "source": [
    "### 2)"
   ]
  },
  {
   "cell_type": "code",
   "execution_count": 2,
   "id": "finite-journalist",
   "metadata": {},
   "outputs": [],
   "source": [
    "# Code from GitHub.\n",
    "def fdcoeffV(k,xbar,x):\n",
    "    x = array(x)  # in case a list or tuple passed in, convert to numpy array\n",
    "    n = len(x)\n",
    "    if k >=n:\n",
    "        raise ValueError('*** len(x) must be larger than k')\n",
    "        \n",
    "    A = ones((n,n))\n",
    "    xrow = x - xbar  # displacement vector\n",
    "    \n",
    "    for i in range(1,n):\n",
    "        A[i,:] = (xrow**i) / factorial(i)\n",
    "    \n",
    "    condA = cond(A)  # condition number\n",
    "    if condA > 1e8:\n",
    "        print(\"Warning: condition number of Vandermonde matrix is approximately %.1e\" % condA)\n",
    "        \n",
    "    b = zeros(x.shape)\n",
    "    b[k] = 1.\n",
    "    \n",
    "    c = solve(A,b)\n",
    "    \n",
    "    return c\n",
    "\n",
    "def fdstencil(k, jbar, stencil_points):\n",
    "    \"\"\"\n",
    "    Compute and print the finite difference stencil for an order k derivative\n",
    "    using at least k+1 equally spaced points.\n",
    "    The stencil_points are thus assumed to be integers (indices of stencil points)\n",
    "    as is jbar, the index at which the approximation is to be used.\n",
    "    \n",
    "    For example, the standard second order stencil for u''(x_0) \n",
    "    can be printed via\n",
    "        fdstencil(2, 0, [-1,0,1])\n",
    "    \"\"\"\n",
    "    assert type(jbar) is int, '*** jbar should be an integer'\n",
    "    stencil_pts = array(stencil_points)\n",
    "    assert stencil_pts.dtype == int, '*** stencil_points should be integers'\n",
    "    \n",
    "    c = fdcoeffV(k, jbar, stencil_pts)\n",
    "    \n",
    "    print(\"Stencil for approximation to order %s derivative at U_{%s} is:\" \\\n",
    "          % (str(k), str(jbar)))\n",
    "    coeffs = ['%s / h^2' % str(cj) for cj in c]\n",
    "    s = '[' \n",
    "    for j in range(len(c)):\n",
    "        subj = str(stencil_pts[j])\n",
    "        cj = c[j]\n",
    "        sj = '%g U_{%s}' % (abs(cj), stencil_pts[j])\n",
    "        if cj >= 0:\n",
    "            s = s + ' + ' + sj\n",
    "        else:\n",
    "            s = s + ' - ' + sj\n",
    "    s = s + '] / h^%i' % k\n",
    "    print(s)\n",
    "    return c"
   ]
  },
  {
   "cell_type": "code",
   "execution_count": 1,
   "id": "funded-complaint",
   "metadata": {},
   "outputs": [
    {
     "ename": "NameError",
     "evalue": "name 'fdstencil' is not defined",
     "output_type": "error",
     "traceback": [
      "\u001b[0;31m---------------------------------------------------------------------------\u001b[0m",
      "\u001b[0;31mNameError\u001b[0m                                 Traceback (most recent call last)",
      "\u001b[0;32m<ipython-input-1-43ace4532ff3>\u001b[0m in \u001b[0;36m<module>\u001b[0;34m\u001b[0m\n\u001b[0;32m----> 1\u001b[0;31m \u001b[0mconst\u001b[0m \u001b[0;34m=\u001b[0m \u001b[0mfdstencil\u001b[0m\u001b[0;34m(\u001b[0m\u001b[0;36m4\u001b[0m\u001b[0;34m,\u001b[0m \u001b[0;36m0\u001b[0m\u001b[0;34m,\u001b[0m \u001b[0;34m[\u001b[0m\u001b[0;36m0\u001b[0m\u001b[0;34m,\u001b[0m \u001b[0;36m1\u001b[0m\u001b[0;34m,\u001b[0m \u001b[0;36m2\u001b[0m\u001b[0;34m,\u001b[0m \u001b[0;36m3\u001b[0m\u001b[0;34m,\u001b[0m \u001b[0;36m4\u001b[0m\u001b[0;34m]\u001b[0m\u001b[0;34m)\u001b[0m\u001b[0;34m\u001b[0m\u001b[0;34m\u001b[0m\u001b[0m\n\u001b[0m",
      "\u001b[0;31mNameError\u001b[0m: name 'fdstencil' is not defined"
     ]
    }
   ],
   "source": [
    "const = fdstencil(4, 0, [-2, -1, 0, 1, 2])"
   ]
  },
  {
   "cell_type": "code",
   "execution_count": 4,
   "id": "sensitive-consolidation",
   "metadata": {},
   "outputs": [
    {
     "data": {
      "text/plain": [
       "True"
      ]
     },
     "execution_count": 4,
     "metadata": {},
     "output_type": "execute_result"
    }
   ],
   "source": [
    "Vand = np.array([[   1,    1, 1,    1,   1],\n",
    "                 [  -2,   -1, 0,    1,   2],\n",
    "                 [   2,  1/2, 0,  1/2,   2],\n",
    "                 [-4/3, -1/6, 0,  1/6, 4/3],\n",
    "                 [ 2/3, 1/24, 0, 1/24, 2/3]])\n",
    "np.allclose(Vand @ const, [0, 0, 1, 0, 0])"
   ]
  },
  {
   "cell_type": "markdown",
   "id": "found-occasions",
   "metadata": {},
   "source": [
    "### 3)"
   ]
  },
  {
   "cell_type": "code",
   "execution_count": 6,
   "id": "comparable-cricket",
   "metadata": {},
   "outputs": [
    {
     "data": {
      "image/png": "[encoded data removed]",
      "text/plain": [
       "<Figure size 720x480 with 1 Axes>"
      ]
     },
     "metadata": {},
     "output_type": "display_data"
    },
    {
     "data": {
      "text/html": [
       "<div>\n",
       "<style scoped>\n",
       "    .dataframe tbody tr th:only-of-type {\n",
       "        vertical-align: middle;\n",
       "    }\n",
       "\n",
       "    .dataframe tbody tr th {\n",
       "        vertical-align: top;\n",
       "    }\n",
       "\n",
       "    .dataframe thead th {\n",
       "        text-align: right;\n",
       "    }\n",
       "</style>\n",
       "<table border=\"1\" class=\"dataframe\">\n",
       "  <thead>\n",
       "    <tr style=\"text-align: right;\">\n",
       "      <th></th>\n",
       "      <th>error</th>\n",
       "      <th>prediction</th>\n",
       "    </tr>\n",
       "    <tr>\n",
       "      <th>h</th>\n",
       "      <th></th>\n",
       "      <th></th>\n",
       "    </tr>\n",
       "  </thead>\n",
       "  <tbody>\n",
       "    <tr>\n",
       "      <th>0.100000</th>\n",
       "      <td>6.443065e-05</td>\n",
       "      <td>1.000000e-04</td>\n",
       "    </tr>\n",
       "    <tr>\n",
       "      <th>0.056234</th>\n",
       "      <td>6.458817e-06</td>\n",
       "      <td>1.000000e-05</td>\n",
       "    </tr>\n",
       "    <tr>\n",
       "      <th>0.031623</th>\n",
       "      <td>6.463807e-07</td>\n",
       "      <td>1.000000e-06</td>\n",
       "    </tr>\n",
       "    <tr>\n",
       "      <th>0.017783</th>\n",
       "      <td>6.465517e-08</td>\n",
       "      <td>1.000000e-07</td>\n",
       "    </tr>\n",
       "    <tr>\n",
       "      <th>0.010000</th>\n",
       "      <td>6.467880e-09</td>\n",
       "      <td>1.000000e-08</td>\n",
       "    </tr>\n",
       "    <tr>\n",
       "      <th>0.005623</th>\n",
       "      <td>6.599135e-10</td>\n",
       "      <td>1.000000e-09</td>\n",
       "    </tr>\n",
       "    <tr>\n",
       "      <th>0.003162</th>\n",
       "      <td>1.019997e-10</td>\n",
       "      <td>1.000000e-10</td>\n",
       "    </tr>\n",
       "    <tr>\n",
       "      <th>0.001778</th>\n",
       "      <td>4.420064e-11</td>\n",
       "      <td>1.000000e-11</td>\n",
       "    </tr>\n",
       "    <tr>\n",
       "      <th>0.001000</th>\n",
       "      <td>4.406173e-10</td>\n",
       "      <td>1.000000e-12</td>\n",
       "    </tr>\n",
       "    <tr>\n",
       "      <th>0.000562</th>\n",
       "      <td>1.053566e-09</td>\n",
       "      <td>1.000000e-13</td>\n",
       "    </tr>\n",
       "    <tr>\n",
       "      <th>0.000316</th>\n",
       "      <td>2.744331e-09</td>\n",
       "      <td>1.000000e-14</td>\n",
       "    </tr>\n",
       "    <tr>\n",
       "      <th>0.000178</th>\n",
       "      <td>5.442107e-09</td>\n",
       "      <td>1.000000e-15</td>\n",
       "    </tr>\n",
       "    <tr>\n",
       "      <th>0.000100</th>\n",
       "      <td>3.702247e-08</td>\n",
       "      <td>1.000000e-16</td>\n",
       "    </tr>\n",
       "  </tbody>\n",
       "</table>\n",
       "</div>"
      ],
      "text/plain": [
       "                 error    prediction\n",
       "h                                   \n",
       "0.100000  6.443065e-05  1.000000e-04\n",
       "0.056234  6.458817e-06  1.000000e-05\n",
       "0.031623  6.463807e-07  1.000000e-06\n",
       "0.017783  6.465517e-08  1.000000e-07\n",
       "0.010000  6.467880e-09  1.000000e-08\n",
       "0.005623  6.599135e-10  1.000000e-09\n",
       "0.003162  1.019997e-10  1.000000e-10\n",
       "0.001778  4.420064e-11  1.000000e-11\n",
       "0.001000  4.406173e-10  1.000000e-12\n",
       "0.000562  1.053566e-09  1.000000e-13\n",
       "0.000316  2.744331e-09  1.000000e-14\n",
       "0.000178  5.442107e-09  1.000000e-15\n",
       "0.000100  3.702247e-08  1.000000e-16"
      ]
     },
     "execution_count": 6,
     "metadata": {},
     "output_type": "execute_result"
    }
   ],
   "source": [
    "#initialize\n",
    "hvals = logspace(-1, -4, 13)\n",
    "u = lambda x: np.sin(2*x)\n",
    "x_bar = 1\n",
    "tru = -4*np.sin(2*x_bar)\n",
    "errors = []\n",
    "\n",
    "#approximate\n",
    "for h in hvals:\n",
    "    apprx = (const[0] * u(x_bar - 2*h)\n",
    "             + const[1] * u(x_bar - h)\n",
    "             + const[2] * u(x_bar)\n",
    "             + const[3] * u(x_bar + h)\n",
    "             + const[4] * u(x_bar + 2*h)) / h**2\n",
    "    errors.append(apprx - tru)\n",
    "\n",
    "#predicted error from fdstencil\n",
    "pred = hvals**4\n",
    "\n",
    "#plot\n",
    "plt.loglog(hvals, np.abs(errors))\n",
    "plt.xlabel('h')\n",
    "plt.ylabel('error')\n",
    "plt.show()\n",
    "\n",
    "#table\n",
    "df = pd.DataFrame({'h':hvals,\n",
    "                   'error':errors,\n",
    "                   'prediction':pred})\n",
    "df.set_index('h', inplace=True)\n",
    "df"
   ]
  }
 ],
 "metadata": {
  "kernelspec": {
   "display_name": "Python 3 (ipykernel)",
   "language": "python",
   "name": "python3"
  },
  "language_info": {
   "codemirror_mode": {
    "name": "ipython",
    "version": 3
   },
   "file_extension": ".py",
   "mimetype": "text/x-python",
   "name": "python",
   "nbconvert_exporter": "python",
   "pygments_lexer": "ipython3",
   "version": "3.9.15"
  }
 },
 "nbformat": 4,
 "nbformat_minor": 5
}
