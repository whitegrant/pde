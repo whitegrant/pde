{
 "cells": [
  {
   "cell_type": "code",
   "execution_count": 1,
   "id": "legislative-syndicate",
   "metadata": {},
   "outputs": [],
   "source": [
    "import numpy as np\n",
    "from numpy import sin, cos\n",
    "import pandas as pd"
   ]
  },
  {
   "cell_type": "markdown",
   "id": "arranged-finder",
   "metadata": {},
   "source": [
    "$u'(t) = \\lambda (u - cos t) - sin t$"
   ]
  },
  {
   "cell_type": "code",
   "execution_count": 2,
   "id": "registered-shirt",
   "metadata": {},
   "outputs": [],
   "source": [
    "lamb = -1e6\n",
    "K = [.4, .2, .1]\n",
    "sol = cos(3)"
   ]
  },
  {
   "cell_type": "code",
   "execution_count": 3,
   "id": "catholic-aerospace",
   "metadata": {},
   "outputs": [],
   "source": [
    "def backward_euler(u, k):\n",
    "    T = np.arange(0, 3+k, k)\n",
    "    for t in T:\n",
    "        u = (u - lamb*k*cos(t+k) - k*sin(t+k)) / (1 - lamb*k)\n",
    "    return u"
   ]
  },
  {
   "cell_type": "code",
   "execution_count": 4,
   "id": "welsh-spare",
   "metadata": {},
   "outputs": [],
   "source": [
    "def trapezoidal(u, k):\n",
    "    T = np.arange(0, 3+k, k)\n",
    "    for t in T:\n",
    "        u = (lamb*(u - cos(t)) - sin(t) - lamb*cos(t+k) - sin(t+k)) / (k/2 - lamb)\n",
    "    return u"
   ]
  },
  {
   "cell_type": "code",
   "execution_count": 5,
   "id": "owned-museum",
   "metadata": {},
   "outputs": [],
   "source": [
    "#case 1\n",
    "u1 = 1\n",
    "back1 = [abs(sol - backward_euler(u1, k)) for k in K]\n",
    "trap1 = [abs(sol - trapezoidal(u1, k)) for k in K]"
   ]
  },
  {
   "cell_type": "code",
   "execution_count": 6,
   "id": "enabling-florida",
   "metadata": {},
   "outputs": [],
   "source": [
    "#case 2\n",
    "u2 = 3/2\n",
    "back2 = [abs(sol - backward_euler(u2, k)) for k in K]\n",
    "trap2 = [abs(sol - trapezoidal(u2, k)) for k in K]"
   ]
  },
  {
   "cell_type": "code",
   "execution_count": 7,
   "id": "finnish-progress",
   "metadata": {},
   "outputs": [
    {
     "data": {
      "text/html": [
       "<div>\n",
       "<style scoped>\n",
       "    .dataframe tbody tr th:only-of-type {\n",
       "        vertical-align: middle;\n",
       "    }\n",
       "\n",
       "    .dataframe tbody tr th {\n",
       "        vertical-align: top;\n",
       "    }\n",
       "\n",
       "    .dataframe thead th {\n",
       "        text-align: right;\n",
       "    }\n",
       "</style>\n",
       "<table border=\"1\" class=\"dataframe\">\n",
       "  <thead>\n",
       "    <tr style=\"text-align: right;\">\n",
       "      <th></th>\n",
       "      <th>k</th>\n",
       "      <th>Backward Euler</th>\n",
       "      <th>Trapezoidal</th>\n",
       "    </tr>\n",
       "  </thead>\n",
       "  <tbody>\n",
       "    <tr>\n",
       "      <th>1</th>\n",
       "      <td>0.4</td>\n",
       "      <td>0.093234</td>\n",
       "      <td>0.093235</td>\n",
       "    </tr>\n",
       "    <tr>\n",
       "      <th>1</th>\n",
       "      <td>0.2</td>\n",
       "      <td>0.008302</td>\n",
       "      <td>0.008302</td>\n",
       "    </tr>\n",
       "    <tr>\n",
       "      <th>1</th>\n",
       "      <td>0.1</td>\n",
       "      <td>0.009143</td>\n",
       "      <td>0.009143</td>\n",
       "    </tr>\n",
       "    <tr>\n",
       "      <th>2</th>\n",
       "      <td>0.4</td>\n",
       "      <td>0.093234</td>\n",
       "      <td>0.406765</td>\n",
       "    </tr>\n",
       "    <tr>\n",
       "      <th>2</th>\n",
       "      <td>0.2</td>\n",
       "      <td>0.008302</td>\n",
       "      <td>0.491697</td>\n",
       "    </tr>\n",
       "    <tr>\n",
       "      <th>2</th>\n",
       "      <td>0.1</td>\n",
       "      <td>0.009143</td>\n",
       "      <td>0.509142</td>\n",
       "    </tr>\n",
       "  </tbody>\n",
       "</table>\n",
       "</div>"
      ],
      "text/plain": [
       "     k  Backward Euler  Trapezoidal\n",
       "1  0.4        0.093234     0.093235\n",
       "1  0.2        0.008302     0.008302\n",
       "1  0.1        0.009143     0.009143\n",
       "2  0.4        0.093234     0.406765\n",
       "2  0.2        0.008302     0.491697\n",
       "2  0.1        0.009143     0.509142"
      ]
     },
     "execution_count": 7,
     "metadata": {},
     "output_type": "execute_result"
    }
   ],
   "source": [
    "data = {'k':np.concatenate((K, K)),\n",
    "        'Backward Euler':np.concatenate((back1, back2)),\n",
    "        'Trapezoidal':np.concatenate((trap1, trap2))}\n",
    "pd.DataFrame(data, index=[1, 1, 1, 2, 2, 2])"
   ]
  }
 ],
 "metadata": {
  "kernelspec": {
   "display_name": "Python 3 (ipykernel)",
   "language": "python",
   "name": "python3"
  },
  "language_info": {
   "codemirror_mode": {
    "name": "ipython",
    "version": 3
   },
   "file_extension": ".py",
   "mimetype": "text/x-python",
   "name": "python",
   "nbconvert_exporter": "python",
   "pygments_lexer": "ipython3",
   "version": "3.9.15"
  }
 },
 "nbformat": 4,
 "nbformat_minor": 5
}
